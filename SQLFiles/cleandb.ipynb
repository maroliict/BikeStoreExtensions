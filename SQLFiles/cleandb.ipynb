{
    "metadata": {
        "kernelspec": {
            "name": "SQL",
            "display_name": "SQL",
            "language": "sql"
        },
        "language_info": {
            "name": "sql",
            "version": ""
        }
    },
    "nbformat_minor": 2,
    "nbformat": 4,
    "cells": [
        {
            "cell_type": "code",
            "source": [
                "/*clean up all constraints*/\r\n",
                "    select schema_name(t.schema_id) + '.' + t.[name],\r\n",
                "        'Table',\r\n",
                "        'Check constraint',\r\n",
                "        con.[name] as constraint_name,\r\n",
                "        con.[definition]\r\n",
                "    from sys.check_constraints as con\r\n",
                "        left outer join sys.objects as t\r\n",
                "            on con.parent_object_id = t.object_id\r\n",
                "        left outer join sys.all_columns as col\r\n",
                "            on con.parent_column_id = col.column_id\r\n",
                "            and con.parent_object_id = col.object_id\r\n",
                "\r\n",
                "\r\n",
                "\r\n",
                "\r\n",
                "/*\r\n",
                "Cleanup all tables\r\n",
                "*/\r\n",
                "DECLARE @sql NVARCHAR(max)=''\r\n",
                "\r\n",
                "SELECT @sql += ' Drop table ' + QUOTENAME(TABLE_SCHEMA) + '.'+ QUOTENAME(TABLE_NAME) + '; '\r\n",
                "FROM   INFORMATION_SCHEMA.TABLES\r\n",
                "WHERE  TABLE_TYPE = 'BASE TABLE'\r\n",
                "\r\n",
                "Exec Sp_executesql @sql\r\n",
                "\r\n",
                "drop schema production\r\n",
                "drop schema sales"
            ],
            "metadata": {
                "azdata_cell_guid": "94bc213f-3901-49a2-990f-5c0468ef3471",
                "language": "sql"
            },
            "outputs": [
                {
                    "output_type": "display_data",
                    "data": {
                        "text/html": "(0 rows affected)"
                    },
                    "metadata": {}
                },
                {
                    "output_type": "display_data",
                    "data": {
                        "text/html": "Total execution time: 00:00:00.015"
                    },
                    "metadata": {}
                },
                {
                    "output_type": "execute_result",
                    "execution_count": 21,
                    "data": {
                        "application/vnd.dataresource+json": {
                            "schema": {
                                "fields": [
                                    {
                                        "name": "(No column name)"
                                    },
                                    {
                                        "name": "(No column name)"
                                    },
                                    {
                                        "name": "(No column name)"
                                    },
                                    {
                                        "name": "constraint_name"
                                    },
                                    {
                                        "name": "definition"
                                    }
                                ]
                            },
                            "data": []
                        },
                        "text/html": "<table><tr><th>(No column name)</th><th>(No column name)</th><th>(No column name)</th><th>constraint_name</th><th>definition</th></tr></table>"
                    },
                    "metadata": {}
                },
                {
                    "output_type": "error",
                    "ename": "",
                    "evalue": "Msg 15151, Level 16, State 1, Line 28\r\nCannot drop the schema 'production', because it does not exist or you do not have permission.",
                    "traceback": []
                },
                {
                    "output_type": "error",
                    "ename": "",
                    "evalue": "Msg 15151, Level 16, State 1, Line 29\r\nCannot drop the schema 'sales', because it does not exist or you do not have permission.",
                    "traceback": []
                }
            ],
            "execution_count": 21
        }
    ]
}