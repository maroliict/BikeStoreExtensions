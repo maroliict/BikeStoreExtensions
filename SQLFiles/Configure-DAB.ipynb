{
    "metadata": {
        "kernelspec": {
            "name": "powershell",
            "display_name": "PowerShell",
            "language": "powershell"
        },
        "language_info": {
            "name": "powershell",
            "codemirror_mode": "shell",
            "mimetype": "text/x-sh",
            "file_extension": ".ps1"
        }
    },
    "nbformat_minor": 2,
    "nbformat": 4,
    "cells": [
        {
            "cell_type": "markdown",
            "source": [
                "This is the powershell part of the demo. In this part I am going to create the configuration for Data API Builder.\n",
                "\n",
                "We start with how you can install it for your developement. Before we install we must have a few things:\n",
                "\n",
                "> 1)Your computer for development\n",
                "> \n",
                "> 2. A SQL Database (you can a docker image or a VM)\n",
                ">     \n",
                "> 3. A folder structure\n",
                ">     \n",
                "\n",
                "We assume you have the first two in place.\n",
                "\n",
                "The folder structure I would prefer to build is created under GIT\n",
                "\n",
                "We will create the structure if it not exists already and jump into the folder for dab"
            ],
            "metadata": {
                "azdata_cell_guid": "7ad98ff7-538e-487b-acbf-89ff477f920d"
            },
            "attachments": {}
        },
        {
            "cell_type": "code",
            "source": [
                "# Create Folder structure\r\n",
                "$basepath = \"c:\\GIT2\"\r\n",
                "$Projectname = \"SWA-DAB-SETUP\"\r\n",
                "\r\n",
                "if (!(test-path $basepath)){new-item -path $basepath -itemtype Directory -force | Out-Null; write-output \"$Basepath Created\" }\r\n",
                "if (test-path $basepath){\r\n",
                "    set-location $basepath\r\n",
                "    if (!(test-path $Projectname)){new-item -path $ProjectName -itemtype Directory -force | Out-Null; write-output \"$ProjectName Created\" }\r\n",
                "    if (test-path $Projectname)\r\n",
                "        {\r\n",
                "        \r\n",
                "        new-item -path \"$ProjectName\\BUILD\" -itemtype Directory -force | Out-Null; write-output \"$ProjectName\\BUILD Created\"\r\n",
                "\r\n",
                "        new-item -path \"$ProjectName\\docs\" -itemtype Directory -force | Out-Null; write-output \"$ProjectName\\DOCS Created\"\r\n",
                "        new-item -path \"$ProjectName\\src\" -itemtype Directory -force | Out-Null; write-output \"$ProjectName\\SRC Created\"\r\n",
                "\r\n",
                "        new-item -path \"$ProjectName\\src\\API\" -itemtype Directory -force | Out-Null; write-output \"$ProjectName\\DOCS Created\"\r\n",
                "        new-item -path \"$ProjectName\\src\\swa-db-conncections\" -itemtype Directory -force | Out-Null; write-output \"$ProjectName\\DOCS Created\"\r\n",
                "        new-item -path \"$ProjectName\\src\\web\" -itemtype Directory -force | Out-Null; write-output \"$ProjectName\\DOCS Created\"\r\n",
                "\r\n",
                "        new-item -path \"$ProjectName\\TEST\" -itemtype Directory -force | Out-Null; write-output \"$ProjectName\\TEST Created\"\r\n",
                "        }\r\n",
                "        else\r\n",
                "        {write-output \"$ProjectName already  exists\"}\r\n",
                "    }\r\n",
                "    else\r\n",
                "    {\r\n",
                "    write-output \"$basepath already exists\"\r\n",
                "    }\r\n",
                "\r\n",
                "set-location \"$basepath\\$ProjectName\\src\\swa-db-conncections\"\r\n",
                ""
            ],
            "metadata": {
                "azdata_cell_guid": "b3b05445-c550-4643-9282-c1f9d077b3ca",
                "language": "powershell"
            },
            "outputs": [
                {
                    "output_type": "stream",
                    "name": "stdout",
                    "text": "c:\\GIT2 Created\nSWA-DAB-SETUP Created\nSWA-DAB-SETUP\\BUILD Created\nSWA-DAB-SETUP\\DOCS Created\nSWA-DAB-SETUP\\SRC Created\nSWA-DAB-SETUP\\DOCS Created\nSWA-DAB-SETUP\\DOCS Created\nSWA-DAB-SETUP\\DOCS Created\nSWA-DAB-SETUP\\TEST Created\n"
                }
            ],
            "execution_count": 14
        },
        {
            "cell_type": "code",
            "source": [
                "Now that we have the Git structure, it is time to configure DAB. First step would be to install it.\r\n",
                "\r\n",
                "Installation can be achieved in two ways:\r\n",
                "- Download the nuget package\r\n",
                "- use the version in Visual Studio (professional or Enterprise has it available. Not sure about community edition)\r\n",
                "\r\n",
                ""
            ],
            "metadata": {
                "azdata_cell_guid": "df3dae62-e92b-4a9c-8966-b1e1c9ea3bb7",
                "language": "powershell"
            },
            "outputs": [],
            "execution_count": null
        },
        {
            "cell_type": "code",
            "source": [
                "# Set TLS1.2\r\n",
                "[Net.ServicePointManager]::SecurityProtocol = [Net.SecurityProtocolType]::Tls12\r\n",
                "# Download the file if required from the nuget library\r\n",
                "\r\n",
                "Invoke-WebRequest -Uri \"https://www.nuget.org/api/v2/package/Microsoft.DataApiBuilder/0.9.6-rc\" -OutFile \"C:\\GIT2\\microsoft.dataapibuilder.0.9.6-rc.nupkg\"\r\n",
                "#The following will install the file\r\n",
                ". dotnet tool install -g --add-source C:\\GIT2\\ microsoft.DataApiBuilder"
            ],
            "metadata": {
                "language": "powershell",
                "azdata_cell_guid": "41a9f430-c0a3-4dd5-bee9-c8a887f9661a"
            },
            "outputs": [
                {
                    "output_type": "stream",
                    "name": "stdout",
                    "text": "Tool 'microsoft.dataapibuilder' is already installed.\n"
                }
            ],
            "execution_count": 18
        },
        {
            "cell_type": "markdown",
            "source": [
                "Now that we have DAB installed and a folderstructure, it is time to setup a connection to your database. For that you need to update the servername, databasename, userid and pwd in the following codeblock"
            ],
            "metadata": {
                "language": "powershell",
                "azdata_cell_guid": "35e61349-4740-4fec-a536-369b6aaba6a6"
            },
            "attachments": {}
        },
        {
            "cell_type": "code",
            "source": [
                "# Setup DAB, you should copy this to the terminal window below\r\n",
                "$InstanceName   = \"ToBo-SQL2022\"\r\n",
                "$DatabaseName   = \"BikeStores_2022\"\r\n",
                "$UserID         = \"MonkeyUser\"\r\n",
                "$PWD            = \"UnH@ckable!\"\r\n",
                "\r\n",
                "\r\n",
                "# Set location to the git folder for db connections\r\n",
                "set-location \"C:\\GIT2\\SWA-DAB-SETUP\\src\\swa-db-conncections\"\r\n",
                "\r\n",
                "#from this location we can run the command to create a dab-config.json file\r\n",
                "\r\n",
                ". dab init --database-type \"mssql\" --connection-string \"Server=$InstanceName;Database=$DatabaseName;User ID=$UserID;Password=$PWD;TrustServerCertificate=true\" --host-mode \"Development“\r\n",
                ""
            ],
            "metadata": {
                "language": "powershell",
                "azdata_cell_guid": "3ef5626d-65e5-4a63-9f05-3962c55a0c97"
            },
            "outputs": [
                {
                    "name": "stdout",
                    "text": ">> ",
                    "output_type": "stream"
                }
            ],
            "execution_count": null
        },
        {
            "cell_type": "markdown",
            "source": [
                "Now that we have the default configuration, it is time to add some stored procedures and views to the configuration"
            ],
            "metadata": {
                "language": "powershell",
                "azdata_cell_guid": "08d600a7-0677-40de-a2ad-0b211cf988e5"
            },
            "attachments": {}
        },
        {
            "cell_type": "code",
            "source": [
                "# First we are going to create some API endpoints based on some stored procedures\r\n",
                "# make sure we are in the right folders\r\n",
                "set-location \"C:\\GIT2\\SWA-DAB-SETUP\\src\\swa-db-conncections\"\r\n",
                "# wrong example (table as an endpoint), just to show that it works\r\n",
                "dab add productionproducts --source production.products --permissions “anonymous:*”\r\n",
                "dab add salesstaff --source sales.staffs --permissions \"anonymous:*\"\r\n",
                "dab add salesstores --source sales.stores --permissions \"anonymous:*\"\r\n",
                "\r\n",
                "# Stored procedure\r\n",
                "dab add OrderBook --source dbo.View_Orderbook --source.type View --source.key-fields \"order_id\",\"store_id\" --permissions \"anonymous:read\"\r\n",
                "\r\n",
                "dab add GetSalesData --source dbo.csp_SalesData --source.type \"stored-procedure\" source.params \"Year\" --permissions \"anonymous:execute\" --rest.methods \"get\" --graphql.operation \"query\"\r\n",
                ""
            ],
            "metadata": {
                "language": "powershell",
                "azdata_cell_guid": "e0341655-65db-478b-b1c8-d41e1e6c7a19"
            },
            "outputs": [],
            "execution_count": null
        },
        {
            "cell_type": "markdown",
            "source": [
                "After adding some of these, it is time to start the DAB engine..."
            ],
            "metadata": {
                "language": "powershell",
                "azdata_cell_guid": "22ad46ec-4235-4fcc-a5cd-41811a0dbf13"
            },
            "attachments": {}
        },
        {
            "cell_type": "markdown",
            "source": [
                "After DAB is started, we can verify that it is working by:\n",
                "\n",
                "1. Going to [https://localhost:5001/Swagger](https:\\localhost:5001\\Swagger)\n",
                "    \n",
                "2. Going to [https://localhost:5001/GraphQL](https:\\localhost:5001\\GraphQL)\n",
                "    \n",
                "\n",
                "<span style=\"color: var(--vscode-foreground);\">Example of GraphQL:</span>  \n",
                "\n",
                "<span style=\"color: #048fcf;\">query</span> <span style=\"color: #69a6e4;\">{</span><span style=\"color: #21c996;\">SalesStores</span><span style=\"color: #69a6e4;\">:</span> <span style=\"color: #e04a98;\">salesstores</span> <span style=\"color: #69a6e4;\">{</span>\n",
                "\n",
                "    <span style=\"color: #e04a98;\">items</span>\n",
                "\n",
                "    <span style=\"color: #69a6e4;\">{</span>\n",
                "\n",
                "      <span style=\"color: #e04a98;\">store_name</span>\n",
                "\n",
                "      <span style=\"color: #69a6e4;\">}</span>\n",
                "\n",
                "    <span style=\"color: #69a6e4;\">}</span>\n",
                "\n",
                "<span style=\"color: #69a6e4;\">}</span>\n",
                "\n",
                "<span style=\"color: #69a6e4;\"><br></span>"
            ],
            "metadata": {
                "language": "powershell",
                "azdata_cell_guid": "61cc6d62-de61-4fb8-8ea7-8572fbe4d0c5"
            },
            "attachments": {}
        },
        {
            "cell_type": "markdown",
            "source": [
                "Another way to test if our API's are working is by some sample Powershell Code"
            ],
            "metadata": {
                "language": "powershell",
                "azdata_cell_guid": "8d4ffc52-dc21-46ee-8680-ba7a4239e66c"
            },
            "attachments": {}
        },
        {
            "cell_type": "code",
            "source": [
                "# First set some basics\r\n",
                "$baseURI = \"https://localhost:5001/api\"\r\n",
                "\r\n",
                "# Retrieve an order from the past...\r\n",
                "# state should be added.\r\n",
                "$Utrecht =@{\r\n",
                "  \"store_name\"= \"PPBikes Utrecht\"\r\n",
                "  \"phone\"= \"+31 30 151 52 53\"\r\n",
                "  \"email\"= \"Groningen@ppbikes\"\r\n",
                "  \"street\"= \"Croeselaan 18\"\r\n",
                "  \"city\"= \"Utrecht\"\r\n",
                "  \"country\"= \"Nederland\"\r\n",
                " \r\n",
                "  \"zip_code\"= \"3521 CB\" \r\n",
                "} |Convertto-json\r\n",
                "\r\n",
                "$utrecht = (Invoke-RestMethod -Uri  \"$($baseURI)/salesstores\" -Method post -Body $Utrecht -ContentType \"application/json\").value.store_id\r\n",
                "\r\n",
                "$Humme = @{\r\n",
                "  \"first_name\"= \"Marjolein\"\r\n",
                "  \"last_name\"= \"Humme\"\r\n",
                "  \"email\"= \"Marjolein@ppikes.com\"\r\n",
                "  \"phone\"= \"030 151 5299\"\r\n",
                "  \"active\"= \"1\"\r\n",
                "  \"store_id\"= $Utrecht\r\n",
                "  \"manager_id\" = \"1\"\r\n",
                "  } | convertto-json\r\n",
                "\r\n",
                "\r\n",
                "$Humme = (Invoke-RestMethod -Uri  \"$($baseURI)/salesstaff\" -Method post -Body $Humme -ContentType \"application/json\").value.staff_id\r\n",
                "\r\n",
                "\r\n",
                "\r\n",
                "\r\n",
                "# Get method...\r\n",
                "(Invoke-RestMethod -Uri \"$($baseURI)/GetSalesData\" -method get -contenttype \"application/json\").value"
            ],
            "metadata": {
                "language": "powershell",
                "azdata_cell_guid": "eff8f16d-2b00-42fd-8420-d47be70caaab",
                "tags": []
            },
            "outputs": [],
            "execution_count": null
        },
        {
            "cell_type": "markdown",
            "source": [
                "What if we are going to change this to the cloud database?\n",
                "We should then: \n",
                "1. Stop DAB (Ctrl-C)\n",
                "    \n",
                "2. Rename dab-config.json to dab-config-local.json\n",
                "    \n",
                "3. Rename dab-config-azure.json to dab-config-azure.json\n",
                "    \n",
                "4. start DAB\n",
                "    \n",
                "Or...\n",
                "run dab with an option of the config file name... maybe more helpfull\n",
                "<span style=\"color: rgb(22, 22, 22); font-family: SFMono-Regular, Consolas, &quot;Liberation Mono&quot;, Menlo, Courier, monospace; white-space: pre; background-color: rgb(242, 242, 242);\">dab start -c dab-config-azure.json</span>"
            ],
            "metadata": {
                "language": "powershell",
                "azdata_cell_guid": "4d136f67-4992-4fcf-9f77-ff39c08a1921"
            }
        }
    ]
}